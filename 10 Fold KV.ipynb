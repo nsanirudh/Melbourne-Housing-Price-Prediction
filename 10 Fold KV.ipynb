{
 "cells": [
  {
   "cell_type": "code",
   "execution_count": 1,
   "metadata": {
    "collapsed": true
   },
   "outputs": [],
   "source": [
    "import pandas as pd  #for data handling and wrangling\n",
    "import numpy as np\n",
    "import matplotlib.pyplot as plt # for plotting and data visualization\n",
    "import seaborn as sb # for plotting and data visualization\n",
    "import sklearn as sk\n",
    "from sklearn.model_selection import train_test_split\n",
    "from sklearn import svm\n",
    "%matplotlib inline"
   ]
  },
  {
   "cell_type": "code",
   "execution_count": 2,
   "metadata": {
    "collapsed": true
   },
   "outputs": [],
   "source": [
    "from sklearn import linear_model\n",
    "from sklearn.linear_model import LogisticRegression\n",
    "from sklearn import ensemble\n",
    "from sklearn.svm import SVC, LinearSVC\n",
    "from sklearn import metrics\n",
    "from sklearn.neighbors import KNeighborsClassifier\n",
    "from sklearn.tree import DecisionTreeClassifier"
   ]
  },
  {
   "cell_type": "code",
   "execution_count": 3,
   "metadata": {},
   "outputs": [
    {
     "name": "stdout",
     "output_type": "stream",
     "text": [
      "   Unnamed: 0  Rooms  Distance  Bedroom2  Bathroom  Car  BuildingArea  \\\n",
      "0           2      2       2.5       2.0       1.0  0.0          79.0   \n",
      "1           4      3       2.5       3.0       2.0  0.0         150.0   \n",
      "2           6      4       2.5       3.0       1.0  2.0         142.0   \n",
      "3          11      3       2.5       4.0       2.0  0.0         210.0   \n",
      "4          14      2       2.5       2.0       1.0  2.0         107.0   \n",
      "\n",
      "   Lattitude  Longtitude    Age      Price  \n",
      "0   -37.8079    144.9934  118.0  1035000.0  \n",
      "1   -37.8093    144.9944  118.0  1465000.0  \n",
      "2   -37.8072    144.9941    4.0  1600000.0  \n",
      "3   -37.8024    144.9993  108.0  1876000.0  \n",
      "4   -37.8060    144.9954  128.0  1636000.0  \n"
     ]
    }
   ],
   "source": [
    "train_data_file_path = 'processed.csv'\n",
    "data = pd.read_csv(train_data_file_path)\n",
    "print(data.head())"
   ]
  },
  {
   "cell_type": "code",
   "execution_count": 4,
   "metadata": {
    "scrolled": true
   },
   "outputs": [
    {
     "name": "stdout",
     "output_type": "stream",
     "text": [
      "             Rooms     Distance     Bathroom  BuildingArea          Age\n",
      "count  7696.000000  7696.000000  7696.000000   7696.000000  7696.000000\n",
      "mean      3.041710    10.660356     1.620062    146.309813    53.034433\n",
      "std       0.976635     6.405592     0.723419     89.697001    37.310265\n",
      "min       1.000000     0.000000     1.000000      0.000000     0.000000\n",
      "25%       2.000000     6.300000     1.000000     96.000000    18.000000\n",
      "50%       3.000000     9.700000     2.000000    129.000000    48.000000\n",
      "75%       4.000000    13.600000     2.000000    176.000000    78.000000\n",
      "max      12.000000    47.400000     9.000000   3112.000000   822.000000\n"
     ]
    }
   ],
   "source": [
    "interesting_columns=[\"Rooms\",\"Distance\",\"Bathroom\",\"BuildingArea\",\"Age\"]\n",
    "decisive_columns = data[interesting_columns]\n",
    "print(decisive_columns.describe())"
   ]
  },
  {
   "cell_type": "code",
   "execution_count": 5,
   "metadata": {
    "collapsed": true
   },
   "outputs": [],
   "source": [
    "predictor_columns = interesting_columns\n",
    "X = data[predictor_columns]\n",
    "y = data.Price"
   ]
  },
  {
   "cell_type": "code",
   "execution_count": 6,
   "metadata": {
    "collapsed": true
   },
   "outputs": [],
   "source": [
    "from sklearn.model_selection import train_test_split\n",
    "X_train,X_test,train_y,test_y = train_test_split(X,y,test_size=0.2)"
   ]
  },
  {
   "cell_type": "code",
   "execution_count": 7,
   "metadata": {
    "collapsed": true
   },
   "outputs": [],
   "source": [
    "import nltk # needed for Naive-Bayes\n",
    "import numpy as np\n",
    "from sklearn.model_selection import cross_val_score\n"
   ]
  },
  {
   "cell_type": "code",
   "execution_count": 8,
   "metadata": {
    "collapsed": true
   },
   "outputs": [],
   "source": [
    "import nltk # needed for Naive-Bayes\n",
    "import numpy as np\n",
    "from sklearn.model_selection import KFold\n",
    "from sklearn.linear_model import LinearRegression"
   ]
  },
  {
   "cell_type": "code",
   "execution_count": null,
   "metadata": {},
   "outputs": [],
   "source": [
    "lm = LinearRegression()\n",
    "scores=cross_val_score(lm,X_train,train_y,cv=10,scoring='mean_squared_error')\n",
    "print (scores)\n",
    "mse_scores = -scores\n",
    "print (mse_scores)"
   ]
  },
  {
   "cell_type": "code",
   "execution_count": null,
   "metadata": {
    "collapsed": true
   },
   "outputs": [],
   "source": []
  }
 ],
 "metadata": {
  "kernelspec": {
   "display_name": "Python 3",
   "language": "python",
   "name": "python3"
  },
  "language_info": {
   "codemirror_mode": {
    "name": "ipython",
    "version": 3
   },
   "file_extension": ".py",
   "mimetype": "text/x-python",
   "name": "python",
   "nbconvert_exporter": "python",
   "pygments_lexer": "ipython3",
   "version": "3.6.1"
  }
 },
 "nbformat": 4,
 "nbformat_minor": 2
}
