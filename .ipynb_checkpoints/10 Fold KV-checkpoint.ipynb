{
 "cells": [
  {
   "cell_type": "code",
   "execution_count": 1,
   "metadata": {
    "collapsed": true
   },
   "outputs": [],
   "source": [
    "import pandas as pd  #for data handling and wrangling\n",
    "import numpy as np\n",
    "import matplotlib.pyplot as plt # for plotting and data visualization\n",
    "import seaborn as sb # for plotting and data visualization\n",
    "import sklearn as sk\n",
    "from sklearn.model_selection import train_test_split\n",
    "from sklearn import svm\n",
    "%matplotlib inline"
   ]
  },
  {
   "cell_type": "code",
   "execution_count": 2,
   "metadata": {
    "collapsed": true
   },
   "outputs": [],
   "source": [
    "from sklearn import linear_model\n",
    "from sklearn.linear_model import LogisticRegression\n",
    "from sklearn import ensemble\n",
    "from sklearn.svm import SVC, LinearSVC\n",
    "from sklearn import metrics\n",
    "from sklearn.neighbors import KNeighborsClassifier\n",
    "from sklearn.tree import DecisionTreeClassifier"
   ]
  },
  {
   "cell_type": "code",
   "execution_count": 3,
   "metadata": {},
   "outputs": [
    {
     "name": "stdout",
     "output_type": "stream",
     "text": [
      "   Unnamed: 0      Suburb          Address  Rooms Type      Price  Distance  \\\n",
      "0           2  Abbotsford  25 Bloomburg St      2    h  1035000.0       2.5   \n",
      "1           4  Abbotsford     5 Charles St      3    h  1465000.0       2.5   \n",
      "2           6  Abbotsford      55a Park St      4    h  1600000.0       2.5   \n",
      "3          11  Abbotsford     124 Yarra St      3    h  1876000.0       2.5   \n",
      "4          14  Abbotsford    98 Charles St      2    h  1636000.0       2.5   \n",
      "\n",
      "   Bathroom  Car  Landsize  BuildingArea  YearBuilt  Lattitude  Longtitude  \\\n",
      "0       1.0  0.0     156.0          79.0     1900.0   -37.8079    144.9934   \n",
      "1       2.0  0.0     134.0         150.0     1900.0   -37.8093    144.9944   \n",
      "2       1.0  2.0     120.0         142.0     2014.0   -37.8072    144.9941   \n",
      "3       2.0  0.0     245.0         210.0     1910.0   -37.8024    144.9993   \n",
      "4       1.0  2.0     256.0         107.0     1890.0   -37.8060    144.9954   \n",
      "\n",
      "              Regionname    Age  \n",
      "0  Northern Metropolitan  118.0  \n",
      "1  Northern Metropolitan  118.0  \n",
      "2  Northern Metropolitan    4.0  \n",
      "3  Northern Metropolitan  108.0  \n",
      "4  Northern Metropolitan  128.0  \n"
     ]
    }
   ],
   "source": [
    "train_data_file_path = 'C://Users//user//Desktop//processed.csv'\n",
    "data = pd.read_csv(train_data_file_path)\n",
    "print(data.head())"
   ]
  },
  {
   "cell_type": "code",
   "execution_count": 4,
   "metadata": {
    "scrolled": true
   },
   "outputs": [
    {
     "name": "stdout",
     "output_type": "stream",
     "text": [
      "             Rooms     Distance     Bathroom      Landsize  BuildingArea  \\\n",
      "count  6644.000000  6644.000000  6644.000000   6644.000000   6644.000000   \n",
      "mean      3.202438    11.293603     1.676400    586.856713    156.829668   \n",
      "std       0.908315     6.499410     0.739242   1067.611590     88.797033   \n",
      "min       1.000000     0.000000     1.000000      1.000000      1.000000   \n",
      "25%       3.000000     6.900000     1.000000    278.000000    107.000000   \n",
      "50%       3.000000    10.500000     2.000000    533.500000    137.000000   \n",
      "75%       4.000000    13.900000     2.000000    672.000000    185.000000   \n",
      "max      12.000000    47.400000     9.000000  40469.000000   3112.000000   \n",
      "\n",
      "               Age  \n",
      "count  6644.000000  \n",
      "mean     55.093016  \n",
      "std      38.073632  \n",
      "min       0.000000  \n",
      "25%      21.000000  \n",
      "50%      51.000000  \n",
      "75%      78.000000  \n",
      "max     822.000000  \n"
     ]
    }
   ],
   "source": [
    "interesting_columns=[\"Rooms\",\"Distance\",\"Bathroom\",\"Landsize\",\"BuildingArea\",\"Age\"]\n",
    "decisive_columns = data[interesting_columns]\n",
    "print(decisive_columns.describe())"
   ]
  },
  {
   "cell_type": "code",
   "execution_count": 5,
   "metadata": {
    "collapsed": true
   },
   "outputs": [],
   "source": [
    "predictor_columns = interesting_columns\n",
    "X = data[predictor_columns]\n",
    "y = data.Price"
   ]
  },
  {
   "cell_type": "code",
   "execution_count": 6,
   "metadata": {
    "collapsed": true
   },
   "outputs": [],
   "source": [
    "from sklearn.model_selection import train_test_split\n",
    "X_train,X_test,train_y,test_y = train_test_split(X,y,test_size=0.2)"
   ]
  },
  {
   "cell_type": "code",
   "execution_count": 7,
   "metadata": {
    "collapsed": true
   },
   "outputs": [],
   "source": [
    "import nltk # needed for Naive-Bayes\n",
    "import numpy as np\n",
    "from sklearn.model_selection import cross_val_score\n"
   ]
  },
  {
   "cell_type": "code",
   "execution_count": 9,
   "metadata": {
    "collapsed": true
   },
   "outputs": [],
   "source": [
    "import nltk # needed for Naive-Bayes\n",
    "import numpy as np\n",
    "from sklearn.model_selection import KFold\n",
    "from sklearn.linear_model import LinearRegression"
   ]
  },
  {
   "cell_type": "code",
   "execution_count": 17,
   "metadata": {},
   "outputs": [
    {
     "name": "stdout",
     "output_type": "stream",
     "text": [
      "[ -3.49381565e+11  -2.27020102e+11  -2.27433753e+11  -2.04381264e+11\n",
      "  -2.02362676e+11  -1.94072053e+11  -2.08007829e+11  -2.74286328e+11\n",
      "  -1.91465515e+11  -2.55208100e+11]\n",
      "[  3.49381565e+11   2.27020102e+11   2.27433753e+11   2.04381264e+11\n",
      "   2.02362676e+11   1.94072053e+11   2.08007829e+11   2.74286328e+11\n",
      "   1.91465515e+11   2.55208100e+11]\n"
     ]
    },
    {
     "name": "stderr",
     "output_type": "stream",
     "text": [
      "C:\\Users\\user\\Anaconda4\\lib\\site-packages\\sklearn\\metrics\\scorer.py:100: DeprecationWarning: Scoring method mean_squared_error was renamed to neg_mean_squared_error in version 0.18 and will be removed in 0.20.\n",
      "  sample_weight=sample_weight)\n",
      "C:\\Users\\user\\Anaconda4\\lib\\site-packages\\sklearn\\metrics\\scorer.py:100: DeprecationWarning: Scoring method mean_squared_error was renamed to neg_mean_squared_error in version 0.18 and will be removed in 0.20.\n",
      "  sample_weight=sample_weight)\n",
      "C:\\Users\\user\\Anaconda4\\lib\\site-packages\\sklearn\\metrics\\scorer.py:100: DeprecationWarning: Scoring method mean_squared_error was renamed to neg_mean_squared_error in version 0.18 and will be removed in 0.20.\n",
      "  sample_weight=sample_weight)\n",
      "C:\\Users\\user\\Anaconda4\\lib\\site-packages\\sklearn\\metrics\\scorer.py:100: DeprecationWarning: Scoring method mean_squared_error was renamed to neg_mean_squared_error in version 0.18 and will be removed in 0.20.\n",
      "  sample_weight=sample_weight)\n",
      "C:\\Users\\user\\Anaconda4\\lib\\site-packages\\sklearn\\metrics\\scorer.py:100: DeprecationWarning: Scoring method mean_squared_error was renamed to neg_mean_squared_error in version 0.18 and will be removed in 0.20.\n",
      "  sample_weight=sample_weight)\n",
      "C:\\Users\\user\\Anaconda4\\lib\\site-packages\\sklearn\\metrics\\scorer.py:100: DeprecationWarning: Scoring method mean_squared_error was renamed to neg_mean_squared_error in version 0.18 and will be removed in 0.20.\n",
      "  sample_weight=sample_weight)\n",
      "C:\\Users\\user\\Anaconda4\\lib\\site-packages\\sklearn\\metrics\\scorer.py:100: DeprecationWarning: Scoring method mean_squared_error was renamed to neg_mean_squared_error in version 0.18 and will be removed in 0.20.\n",
      "  sample_weight=sample_weight)\n",
      "C:\\Users\\user\\Anaconda4\\lib\\site-packages\\sklearn\\metrics\\scorer.py:100: DeprecationWarning: Scoring method mean_squared_error was renamed to neg_mean_squared_error in version 0.18 and will be removed in 0.20.\n",
      "  sample_weight=sample_weight)\n",
      "C:\\Users\\user\\Anaconda4\\lib\\site-packages\\sklearn\\metrics\\scorer.py:100: DeprecationWarning: Scoring method mean_squared_error was renamed to neg_mean_squared_error in version 0.18 and will be removed in 0.20.\n",
      "  sample_weight=sample_weight)\n",
      "C:\\Users\\user\\Anaconda4\\lib\\site-packages\\sklearn\\metrics\\scorer.py:100: DeprecationWarning: Scoring method mean_squared_error was renamed to neg_mean_squared_error in version 0.18 and will be removed in 0.20.\n",
      "  sample_weight=sample_weight)\n"
     ]
    }
   ],
   "source": [
    "lm = LinearRegression()\n",
    "scores=cross_val_score(lm,X_train,train_y,cv=10,scoring='mean_squared_error')\n",
    "print (scores)\n",
    "mse_scores = -scores\n",
    "print (mse_scores)"
   ]
  }
 ],
 "metadata": {
  "kernelspec": {
   "display_name": "Python 3",
   "language": "python",
   "name": "python3"
  },
  "language_info": {
   "codemirror_mode": {
    "name": "ipython",
    "version": 3
   },
   "file_extension": ".py",
   "mimetype": "text/x-python",
   "name": "python",
   "nbconvert_exporter": "python",
   "pygments_lexer": "ipython3",
   "version": "3.6.1"
  }
 },
 "nbformat": 4,
 "nbformat_minor": 2
}
